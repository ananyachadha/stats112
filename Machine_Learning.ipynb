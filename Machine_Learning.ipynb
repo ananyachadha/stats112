{
  "nbformat": 4,
  "nbformat_minor": 0,
  "metadata": {
    "colab": {
      "provenance": []
    },
    "kernelspec": {
      "name": "python3",
      "display_name": "Python 3"
    },
    "language_info": {
      "name": "python"
    }
  },
  "cells": [
    {
      "cell_type": "code",
      "execution_count": null,
      "metadata": {
        "id": "L2CDU8RecUR7"
      },
      "outputs": [],
      "source": [
        "import pandas as pd\n",
        "import numpy as np\n",
        "import matplotlib.pyplot as plt\n",
        "from sklearn.model_selection import cross_val_score\n",
        "from sklearn.linear_model import LinearRegression\n",
        "from sklearn.neighbors import KNeighborsRegressor\n",
        "from sklearn.ensemble import RandomForestRegressor\n",
        "%matplotlib inline\n"
      ]
    },
    {
      "cell_type": "code",
      "source": [
        "data = pd.read_csv(\"dataclean.csv\")\n",
        "data.columns.values\n",
        "data['weather_condition_set_1d' ] = data['weather_condition_set_1d'].fillna('')\n"
      ],
      "metadata": {
        "id": "MDlt9QGR-u3e"
      },
      "execution_count": null,
      "outputs": []
    },
    {
      "cell_type": "code",
      "source": [
        "data = data.dropna()\n",
        "data.isna().any()"
      ],
      "metadata": {
        "colab": {
          "base_uri": "https://localhost:8080/"
        },
        "id": "pKEkFXZnACt1",
        "outputId": "31885cee-285d-4be9-ca57-d6696c4b4bb8"
      },
      "execution_count": null,
      "outputs": [
        {
          "output_type": "execute_result",
          "data": {
            "text/plain": [
              "Unnamed: 0.2                False\n",
              "Unnamed: 0.1                False\n",
              "Unnamed: 0                  False\n",
              "Date/Time                   False\n",
              "Day                         False\n",
              "Hour                        False\n",
              "RT Price $/MW               False\n",
              "DA Price $/MW               False\n",
              "Gas Price $/mmBtu           False\n",
              "Gas Basis $/mmBtu           False\n",
              "Load                        False\n",
              "Temperature °F              False\n",
              "Wind Speed MPH              False\n",
              "RT Heat Rate                False\n",
              "DA Heat Rate                False\n",
              "Return $                    False\n",
              "Return $/MW                 False\n",
              "Return %                    False\n",
              "Cum. Return $               False\n",
              "Dates                       False\n",
              "Time                        False\n",
              "Year                        False\n",
              "Month                       False\n",
              "Date                        False\n",
              "DateAPIFormat               False\n",
              "Sunrise                     False\n",
              "Sunset                      False\n",
              "Day_Length                  False\n",
              "dateJoinFormat              False\n",
              "date_time                   False\n",
              "weather_condition_set_1d    False\n",
              "pressure_set_1d             False\n",
              "relative_humidity_set_1     False\n",
              "wind_speed_set_1            False\n",
              "air_temp_set_1              False\n",
              "dtype: bool"
            ]
          },
          "metadata": {},
          "execution_count": 31
        }
      ]
    },
    {
      "cell_type": "code",
      "source": [
        "from joblib.logger import PrintTime\n",
        "from sklearn.model_selection import train_test_split\n",
        "from sklearn.preprocessing import StandardScaler, OneHotEncoder\n",
        "from sklearn.model_selection import cross_val_score\n",
        "from sklearn.metrics import mean_squared_error\n",
        "from sklearn.compose import make_column_transformer\n",
        "from lightgbm import LGBMRegressor\n",
        "\n",
        "\n",
        "X_train, X_test, y_train, y_test = train_test_split(data[[\"Day\",\"Hour\", \"Gas Price $/mmBtu\", \"Load \", \"Day_Length\", \"Temperature °F\",'weather_condition_set_1d',\n",
        "       'pressure_set_1d', 'relative_humidity_set_1', 'Wind Speed MPH', 'air_temp_set_1' ]],\n",
        "                                                    data[\"Return $/MW\"], \n",
        "                                                    test_size=0.1, \n",
        "                                                    random_state=710)\n",
        "#Model Training Code\n",
        "from sklearn.neighbors import KNeighborsClassifier\n",
        "from sklearn.pipeline import make_pipeline\n",
        "from xgboost import XGBRegressor\n",
        "\n",
        "# model = KNeighborsClassifier(10)\n",
        "model = LGBMRegressor()\n",
        "pipeline = make_pipeline(\n",
        "    make_column_transformer(\n",
        "        (OneHotEncoder(handle_unknown='ignore'), [\"weather_condition_set_1d\"]),\n",
        "        remainder=\"passthrough\"),\n",
        "        StandardScaler(),\n",
        "    model)\n",
        "print(-cross_val_score(\n",
        "    pipeline,\n",
        "    X_train, y_train,\n",
        "    scoring=\"neg_mean_squared_error\",\n",
        "    cv=10).mean())"
      ],
      "metadata": {
        "colab": {
          "base_uri": "https://localhost:8080/"
        },
        "id": "DBRKxySDcWon",
        "outputId": "1e223298-8da8-45e6-c6bb-2c70696bff72"
      },
      "execution_count": null,
      "outputs": [
        {
          "output_type": "stream",
          "name": "stdout",
          "text": [
            "19056.872361053\n"
          ]
        }
      ]
    },
    {
      "cell_type": "code",
      "source": [
        "# HERE I REALIZED, NOT TO DO REGRESSION, BUT JUST TO CLASSIFY BUY OR SELL. just predict just buy or sell. \n",
        "import numpy as np\n",
        "data[\"direction\"] = np.sign(data[\"Return $/MW\"])\n",
        "data[\"direction\"]"
      ],
      "metadata": {
        "colab": {
          "base_uri": "https://localhost:8080/"
        },
        "id": "D5E2R_lGBoyK",
        "outputId": "f7f964c8-fcdb-4f70-be74-97ba7e1c7f96"
      },
      "execution_count": null,
      "outputs": [
        {
          "output_type": "execute_result",
          "data": {
            "text/plain": [
              "0      -1.0\n",
              "1      -1.0\n",
              "2      -1.0\n",
              "3      -1.0\n",
              "4      -1.0\n",
              "       ... \n",
              "8603    1.0\n",
              "8604    1.0\n",
              "8605    1.0\n",
              "8606    1.0\n",
              "8607    1.0\n",
              "Name: direction, Length: 8536, dtype: float64"
            ]
          },
          "metadata": {},
          "execution_count": 47
        }
      ]
    },
    {
      "cell_type": "code",
      "source": [
        "from joblib.logger import PrintTime\n",
        "from sklearn.model_selection import train_test_split\n",
        "from sklearn.preprocessing import StandardScaler, OneHotEncoder\n",
        "from sklearn.model_selection import cross_val_score\n",
        "from sklearn.metrics import mean_squared_error\n",
        "from sklearn.compose import make_column_transformer\n",
        "from lightgbm import LGBMClassifier\n",
        "\n",
        "\n",
        "X_train, X_test, y_train, y_test = train_test_split(data[[\"Day\",\"Hour\", \"Gas Price $/mmBtu\", \"Load \", \"Day_Length\", \"Temperature °F\",'weather_condition_set_1d',\n",
        "       'pressure_set_1d', 'relative_humidity_set_1', 'Wind Speed MPH', 'air_temp_set_1' ]],\n",
        "                                                    data[\"direction\"], \n",
        "                                                    test_size=0.1, \n",
        "                                                    random_state=710)\n",
        "#Model Training Code\n",
        "from sklearn.neighbors import KNeighborsClassifier\n",
        "from sklearn.pipeline import make_pipeline\n",
        "from xgboost import XGBRegressor\n",
        "\n",
        "# model = KNeighborsClassifier(10)\n",
        "model = LGBMClassifier()\n",
        "pipeline = make_pipeline(\n",
        "    make_column_transformer(\n",
        "        (OneHotEncoder(handle_unknown='ignore'), [\"weather_condition_set_1d\"]),\n",
        "        remainder=\"passthrough\"),\n",
        "        StandardScaler(),\n",
        "    model)\n",
        "print(cross_val_score(\n",
        "    pipeline,\n",
        "    X_train, y_train,\n",
        "    scoring=\"accuracy\",\n",
        "    cv=10).mean())\n"
      ],
      "metadata": {
        "colab": {
          "base_uri": "https://localhost:8080/"
        },
        "id": "2GKb0ycGGF5M",
        "outputId": "26f5aaf4-424f-4355-89fa-1f26c16b6953"
      },
      "execution_count": null,
      "outputs": [
        {
          "output_type": "stream",
          "name": "stdout",
          "text": [
            "0.6927222982216142\n"
          ]
        }
      ]
    },
    {
      "cell_type": "code",
      "source": [
        "model = LGBMClassifier()\n",
        "pipeline = make_pipeline(\n",
        "    make_column_transformer(\n",
        "        (OneHotEncoder(handle_unknown='ignore'), [\"weather_condition_set_1d\"]),\n",
        "        remainder=\"passthrough\"),\n",
        "        StandardScaler(),\n",
        "    model)\n",
        "print(cross_val_score(\n",
        "    pipeline,\n",
        "    X_train, y_train,\n",
        "    scoring=\"f1_macro\",\n",
        "    cv=10).mean())"
      ],
      "metadata": {
        "colab": {
          "base_uri": "https://localhost:8080/"
        },
        "id": "gstQWBQKGlYI",
        "outputId": "203d8c22-1c7c-455b-cef3-7270c75fbcfc"
      },
      "execution_count": null,
      "outputs": [
        {
          "output_type": "stream",
          "name": "stdout",
          "text": [
            "0.6299803614454429\n"
          ]
        }
      ]
    },
    {
      "cell_type": "code",
      "source": [
        "model = LGBMClassifier()\n",
        "pipeline = make_pipeline(\n",
        "    make_column_transformer(\n",
        "        (OneHotEncoder(handle_unknown='ignore'), [\"weather_condition_set_1d\"]),\n",
        "        remainder=\"passthrough\"),\n",
        "        StandardScaler(),\n",
        "    model)\n",
        "print(cross_val_score(\n",
        "    pipeline,\n",
        "    X_train, y_train,\n",
        "    scoring=\"precision\",\n",
        "    cv=10).mean())"
      ],
      "metadata": {
        "colab": {
          "base_uri": "https://localhost:8080/"
        },
        "id": "pRf4e9o5He57",
        "outputId": "be7b45ef-29b4-4ed3-cd7d-6670706a1182"
      },
      "execution_count": null,
      "outputs": [
        {
          "output_type": "stream",
          "name": "stdout",
          "text": [
            "0.5788714015527854\n"
          ]
        }
      ]
    },
    {
      "cell_type": "code",
      "source": [
        "model = LGBMClassifier()\n",
        "pipeline = make_pipeline(\n",
        "    make_column_transformer(\n",
        "        (OneHotEncoder(handle_unknown='ignore'), [\"weather_condition_set_1d\"]),\n",
        "        remainder=\"passthrough\"),\n",
        "        StandardScaler(),\n",
        "    model)\n",
        "print(cross_val_score(\n",
        "    pipeline,\n",
        "    X_train, y_train,\n",
        "    scoring=\"accuracy\",\n",
        "    cv=10).mean())"
      ],
      "metadata": {
        "colab": {
          "base_uri": "https://localhost:8080/"
        },
        "id": "TW12pCtpHjdv",
        "outputId": "bc8d5d31-98f8-4022-bf2f-27acb4d67a14"
      },
      "execution_count": null,
      "outputs": [
        {
          "output_type": "stream",
          "name": "stdout",
          "text": [
            "0.6915458276333789\n"
          ]
        }
      ]
    },
    {
      "cell_type": "markdown",
      "source": [
        "#**That was the first iteration, with a basic model on only the one HB_PAN node. Now, I add solar irradiance, and also try out more nodes!**\n",
        "# **see manyNodesML.ipynb**"
      ],
      "metadata": {
        "id": "umWkfT4u0PKV"
      }
    },
    {
      "cell_type": "code",
      "source": [],
      "metadata": {
        "id": "jiQtxqAnHlDe"
      },
      "execution_count": null,
      "outputs": []
    }
  ]
}
